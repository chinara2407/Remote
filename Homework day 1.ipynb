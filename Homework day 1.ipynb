{
 "cells": [
  {
   "cell_type": "code",
   "execution_count": 2,
   "id": "96b20413",
   "metadata": {},
   "outputs": [
    {
     "name": "stdout",
     "output_type": "stream",
     "text": [
      "Max Speed: 200 mph, Color: Black\n"
     ]
    }
   ],
   "source": [
    "#1. Create a Vehicle class with maxspeed and color instance attributes.\n",
    "class Vehicle:\n",
    "    def __init__(self, maxspeed, color):\n",
    "        self.maxspeed = maxspeed\n",
    "        self.color = color\n",
    "\n",
    "    def display_info(self):\n",
    "        print(f\"Max Speed: {self.maxspeed} mph, Color: {self.color}\")\n",
    "\n",
    "car = Vehicle(200, 'Black')\n",
    "car.display_info()"
   ]
  },
  {
   "cell_type": "code",
   "execution_count": 4,
   "id": "8075dee4",
   "metadata": {},
   "outputs": [
    {
     "name": "stdout",
     "output_type": "stream",
     "text": [
      "Enter your color: black\n",
      "Enter your max speeed: 220\n",
      "Max Speed: 220 mph\n",
      "Color: black\n"
     ]
    }
   ],
   "source": [
    "#2. Create new method which prints maxspeed and the color for the given vehicle.\n",
    "class Vehicle:\n",
    "    def __init__(self, maxspeed, color):\n",
    "        self.maxspeed = maxspeed\n",
    "        self.color = color\n",
    "    def print_details(self):\n",
    "        print(f\"Max Speed: {self.maxspeed} mph\")\n",
    "        print(f\"Color: {self.color}\")\n",
    "color = input(\"Enter your color: \")\n",
    "Max_speed= int(input(\"Enter your max speeed: \"))\n",
    "car = Vehicle(Max_speed,color)\n",
    "car.print_details()"
   ]
  },
  {
   "cell_type": "code",
   "execution_count": 6,
   "id": "bc9e1d52",
   "metadata": {},
   "outputs": [
    {
     "name": "stdout",
     "output_type": "stream",
     "text": [
      "Max Speed: 200 mph, Color: Red\n",
      "Brand: BMW\n"
     ]
    }
   ],
   "source": [
    "#3\n",
    "class Vehicle:\n",
    "    def __init__(self, maxspeed, color):\n",
    "        self.maxspeed = maxspeed\n",
    "        self.color = color\n",
    "\n",
    "    def display_info(self):\n",
    "        print(f\"Max Speed: {self.maxspeed} mph, Color: {self.color}\")\n",
    "\n",
    "class Car(Vehicle):\n",
    "    def __init__(self, maxspeed, color, brand):\n",
    "        super().__init__(maxspeed, color)\n",
    "        self.brand = brand\n",
    "\n",
    "    def display_info(self):\n",
    "        super().display_info()\n",
    "        print(f\"Brand: {self.brand}\")\n",
    "\n",
    "\n",
    "car = Car(200, 'Red', 'BMW')\n",
    "car.display_info()\n"
   ]
  },
  {
   "cell_type": "code",
   "execution_count": 7,
   "id": "eec251e8",
   "metadata": {},
   "outputs": [
    {
     "name": "stdout",
     "output_type": "stream",
     "text": [
      "Max Speed: 200 mph, Color: White\n",
      "Max Speed: 180 mph, Color: White\n"
     ]
    }
   ],
   "source": [
    "#4\n",
    "class Vehicle:\n",
    "    def __init__(self, maxspeed, color = 'White'):\n",
    "        self.maxspeed = maxspeed\n",
    "        self.color = color\n",
    "\n",
    "    def display_info(self):\n",
    "        print(f\"Max Speed: {self.maxspeed} mph, Color: {self.color}\")\n",
    "car1 = Vehicle(200)\n",
    "car1.display_info()\n",
    "\n",
    "car2 = Vehicle(180)\n",
    "car2.display_info()"
   ]
  },
  {
   "cell_type": "code",
   "execution_count": 10,
   "id": "e52914b1",
   "metadata": {
    "scrolled": true
   },
   "outputs": [
    {
     "name": "stdout",
     "output_type": "stream",
     "text": [
      "Seating Capacity: 200\n",
      "Default Fare: $7700.0\n"
     ]
    }
   ],
   "source": [
    "#5. Create a Train child class that inherits from the Vehicle class. The default fare of any vehicle is seating capacity * 35. If Vehicle is Train instance, we need to add\n",
    "#an extra 10% on full fare as a maintenance charge.\n",
    "class Vehicle:\n",
    "    def __init__(self, maxspeed, capacity, color = 'White'):\n",
    "        self.maxspeed = maxspeed\n",
    "        self.color = color\n",
    "        self.capacity = capacity\n",
    "\n",
    "    def display_info(self):\n",
    "        print(f\"Max Speed: {self.maxspeed} mph, Color: {self.color}\")\n",
    "    def calculate_fare(self):\n",
    "        return self.capacity * 35\n",
    "\n",
    "\n",
    "class Train(Vehicle):\n",
    "    def __init__(self, maxspeed, capacity):\n",
    "        super().__init__(maxspeed, capacity)\n",
    "\n",
    "    def calculate_fare(self):\n",
    "        base_fare = super().calculate_fare()\n",
    "        charge = base_fare * 0.1\n",
    "        total_fare = base_fare + charge\n",
    "        return total_fare\n",
    "\n",
    "train = Train(100, 200)\n",
    "print(f\"Seating Capacity: {train.capacity}\")\n",
    "print(f\"Default Fare: ${train.calculate_fare()}\")"
   ]
  },
  {
   "cell_type": "code",
   "execution_count": 12,
   "id": "75769006",
   "metadata": {},
   "outputs": [
    {
     "name": "stdout",
     "output_type": "stream",
     "text": [
      "car is an instance of Vehicle class\n",
      "train is an instance of Train class\n"
     ]
    }
   ],
   "source": [
    "#6. Determine which class a given car and train object belongs to .\n",
    "\n",
    "class Vehicle:\n",
    "    def __init__(self, maxspeed, capacity, color = 'White'):\n",
    "        self.maxspeed = maxspeed\n",
    "        self.color = color \n",
    "        self.capacity = capacity\n",
    "\n",
    "    def display_info(self):\n",
    "        print(f\"Max Speed: {self.maxspeed} mph, Color: {self.color}\")\n",
    "\n",
    "    def calculate_fare(self):\n",
    "        return self.capacity * 35 \n",
    "\n",
    "\n",
    "class Train(Vehicle):\n",
    "    def __init__(self, maxspeed, capacity):\n",
    "        super().__init__(maxspeed, capacity)\n",
    "\n",
    "    def calculate_fare(self):\n",
    "        base_fare = super().calculate_fare()\n",
    "        charge = base_fare * 0.1\n",
    "        total_fare = base_fare + charge\n",
    "        return total_fare\n",
    "\n",
    "car = Vehicle(150, 5)\n",
    "train = Train(100, 200)\n",
    "\n",
    "if isinstance(car, Vehicle):\n",
    "    print(\"car is an instance of Vehicle class\")\n",
    "else:\n",
    "    print(\"car is not an instance of Vehicle class\")\n",
    "\n",
    "if isinstance(train, Train):\n",
    "    print(\"train is an instance of Train class\")\n",
    "else:\n",
    "    print(\"train is not an instance of Train class\")"
   ]
  }
 ],
 "metadata": {
  "kernelspec": {
   "display_name": "Python 3 (ipykernel)",
   "language": "python",
   "name": "python3"
  },
  "language_info": {
   "codemirror_mode": {
    "name": "ipython",
    "version": 3
   },
   "file_extension": ".py",
   "mimetype": "text/x-python",
   "name": "python",
   "nbconvert_exporter": "python",
   "pygments_lexer": "ipython3",
   "version": "3.11.5"
  }
 },
 "nbformat": 4,
 "nbformat_minor": 5
}
